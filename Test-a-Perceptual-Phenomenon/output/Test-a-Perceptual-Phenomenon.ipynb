{
 "cells": [
  {
   "cell_type": "markdown",
   "metadata": {},
   "source": [
    "**1. What is our independent variable? What is our dependent variable?**<br/>\n",
    "**Independent Variable:** Whether the font color and the word are same or different (either Congruent or Incongruent) <br/>\n",
    "**Dependent Variable:** Reponse Time(in seconds) by participants to name of the color."
   ]
  },
  {
   "cell_type": "markdown",
   "metadata": {},
   "source": [
    "**2. What is an appropriate set of hypotheses for this task? What kind of statistical test do you expect to perform? Justify your choices.**"
   ]
  },
  {
   "cell_type": "markdown",
   "metadata": {},
   "source": [
    "Ho - **Null Hypothesis**: (  μi - μc = 0 ) The population means for response times for congruent and Incongruent test are same.\n",
    "\n",
    "Ha - **Alternative Hypothesis**: ( μi - μc ≠ 0 ) There is a significant difference in response times of both congruent and Incongruent test.\n",
    "\n",
    "Ho: μc ≥ μi\n",
    "\n",
    "Ha: μc < μi\n",
    "\n",
    "where μ represents population mean, c represents congruent word condition, i represents icongruent word condition\n",
    "\n",
    "**Statistical test**\n",
    "- 99% confidence level\n",
    "- A two-side paired t-test comparing the difference in means of congruent and incongruent words should be performed.\n",
    "\n",
    "t-test will be appropriate because of, \n",
    "- population standard deviation is unknown.\n",
    "- sample size is less than 30\n",
    "\n",
    "\n"
   ]
  },
  {
   "cell_type": "markdown",
   "metadata": {},
   "source": [
    "**3. Report some descriptive statistics regarding this dataset. Include at least one measure of central tendency and at least one measure of variability.**"
   ]
  },
  {
   "cell_type": "code",
   "execution_count": 1,
   "metadata": {},
   "outputs": [],
   "source": [
    "import pandas as pd\n",
    "import matplotlib.pyplot as plt\n",
    "from math import *"
   ]
  },
  {
   "cell_type": "code",
   "execution_count": 2,
   "metadata": {},
   "outputs": [],
   "source": [
    "stroop_data = pd.read_csv('stroopdata.csv')"
   ]
  },
  {
   "cell_type": "code",
   "execution_count": 3,
   "metadata": {},
   "outputs": [
    {
     "name": "stdout",
     "output_type": "stream",
     "text": [
      "The number of results for each condition:\n",
      "Congruent      24\n",
      "Incongruent    24\n",
      "dtype: int64\n",
      "\n",
      "\n",
      "The median result for each condition:\n",
      "Congruent      14.3565\n",
      "Incongruent    21.0175\n",
      "dtype: float64\n",
      "\n",
      "\n",
      "The mean of the results for each condition:\n",
      "Congruent      14.051125\n",
      "Incongruent    22.015917\n",
      "dtype: float64\n",
      "\n",
      "\n",
      "The standard deviation of the results for each condition:\n",
      "Congruent      3.559358\n",
      "Incongruent    4.797057\n",
      "dtype: float64\n"
     ]
    }
   ],
   "source": [
    "print(\"The number of results for each condition:\")\n",
    "print(stroop_data.count())\n",
    "print(\"\\n\")\n",
    "print(\"The median result for each condition:\")\n",
    "print(stroop_data.median())\n",
    "print(\"\\n\")\n",
    "print(\"The mean of the results for each condition:\")\n",
    "print(stroop_data.mean())\n",
    "print(\"\\n\")\n",
    "print(\"The standard deviation of the results for each condition:\")\n",
    "print(stroop_data.std())"
   ]
  },
  {
   "cell_type": "markdown",
   "metadata": {},
   "source": [
    "The standard deviation of **Incongruent** test is higher than **Congruent**. This proves that Incongruent distribution will be wider or more outliers exists."
   ]
  },
  {
   "cell_type": "markdown",
   "metadata": {},
   "source": [
    "**4. Provide one or two visualizations that show the distribution of the sample data. Write one or two sentences noting what you observe about the plot or plots.**"
   ]
  },
  {
   "cell_type": "code",
   "execution_count": 4,
   "metadata": {},
   "outputs": [
    {
     "data": {
      "image/png": "[encoded data removed]",
      "text/plain": [
       "<matplotlib.figure.Figure at 0x1e5e124a320>"
      ]
     },
     "metadata": {},
     "output_type": "display_data"
    }
   ],
   "source": [
    "fig = plt.figure(0)\n",
    "ax = fig.add_subplot(111)\n",
    "bp = ax.boxplot([stroop_data[\"Congruent\"], stroop_data[\"Incongruent\"]])\n",
    "ax.set_xticklabels(['Congruent', 'Incongruent'])\n",
    "plt.show()"
   ]
  },
  {
   "cell_type": "markdown",
   "metadata": {},
   "source": [
    "Above boxplot shows significiant difference in the median of the reaction time between congruent and incongruent samples. The chart shows longer range of time difference in case of incongurent rather than congruent data and a few outliers present too."
   ]
  },
  {
   "cell_type": "markdown",
   "metadata": {},
   "source": [
    "**5. Now, perform the statistical test and report your results. What is your confidence level and your critical statistic value? Do you reject the null hypothesis or fail to reject it? Come to a conclusion in terms of the experiment task. Did the results match up with your expectations?**"
   ]
  },
  {
   "cell_type": "markdown",
   "metadata": {},
   "source": [
    "- **Confidence Level:** 99%\n",
    "- **Degree of freedom (n-1):** 23\n",
    "- **t.critical value(alpha of 0.01):** +/- 2.807"
   ]
  },
  {
   "cell_type": "code",
   "execution_count": 5,
   "metadata": {},
   "outputs": [
    {
     "data": {
      "text/plain": [
       "8.020706944109955"
      ]
     },
     "execution_count": 5,
     "metadata": {},
     "output_type": "execute_result"
    }
   ],
   "source": [
    "#1. D = sample difference\n",
    "stroop_data['Difference'] = stroop_data['Incongruent'] - stroop_data['Congruent']\n",
    "DifferenceSD = stroop_data['Difference'].std()\n",
    "\n",
    "sampleSize = len(stroop_data['Congruent'])\n",
    "\n",
    "StandardError = DifferenceSD/sqrt(sampleSize)\n",
    "\n",
    "DifferenceMean = stroop_data['Incongruent'].mean() - stroop_data['Congruent'].mean()\n",
    "\n",
    "tstat = DifferenceMean/StandardError\n",
    "tstat"
   ]
  },
  {
   "cell_type": "markdown",
   "metadata": {},
   "source": [
    "At a confidence level 99% and t-critical value of 2.807, t-statistics of 8.02 indicates significant diference in completion times of stroop test. Due to this reason, we can reject the null hypothesis."
   ]
  },
  {
   "cell_type": "markdown",
   "metadata": {},
   "source": [
    "**6. Optional: What do you think is responsible for the effects observed? Can you think of an alternative or similar task that would result in a similar effect? Some research about the problem will be helpful for thinking about these two questions!**"
   ]
  },
  {
   "cell_type": "markdown",
   "metadata": {},
   "source": [
    " The effects observed is that the brain dominantly focuses on reading the word rather than recognizing a colour. The override to recognize the color rather than word takes time."
   ]
  },
  {
   "cell_type": "markdown",
   "metadata": {},
   "source": [
    "**References:**<br/>\n",
    "(https://en.wikipedia.org/wiki/Numerical_Stroop_effect)<br/>\n",
    "(http://stattrek.com/probability-distributions/t-distribution.aspx)<br/>\n",
    "(https://www.statisticssolutions.com/manova-analysis-paired-sample-t-test/)"
   ]
  },
  {
   "cell_type": "code",
   "execution_count": null,
   "metadata": {},
   "outputs": [],
   "source": []
  }
 ],
 "metadata": {
  "kernelspec": {
   "display_name": "Python 3",
   "language": "python",
   "name": "python3"
  },
  "language_info": {
   "codemirror_mode": {
    "name": "ipython",
    "version": 3
   },
   "file_extension": ".py",
   "mimetype": "text/x-python",
   "name": "python",
   "nbconvert_exporter": "python",
   "pygments_lexer": "ipython3",
   "version": "3.6.4"
  }
 },
 "nbformat": 4,
 "nbformat_minor": 2
}
